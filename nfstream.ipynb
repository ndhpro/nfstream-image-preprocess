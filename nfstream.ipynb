{
 "cells": [
  {
   "cell_type": "code",
   "execution_count": 20,
   "metadata": {},
   "outputs": [],
   "source": [
    "import os\n",
    "import pandas as pd\n",
    "from nfstream import NFStreamer\n",
    "from glob import glob\n",
    "from tqdm.notebook import tqdm\n",
    "from PIL import Image\n"
   ]
  },
  {
   "cell_type": "code",
   "execution_count": 2,
   "metadata": {},
   "outputs": [],
   "source": [
    "PCAP_PATHS = glob(\n",
    "    '/media/research/TrungHieuOnly/Hieu/Datasets/ISCX-VPN-NonVPN-2016/NonVPN-PCAPs/*')\n",
    "LABELS = ['aim', 'email', 'facebook', 'ftps', 'gmail',\n",
    "          'hangout', 'icq', 'netflix', 'scp', 'sftp',\n",
    "          'skype', 'spotify', 'vimeo', 'voipbuster', 'youtube']\n",
    "UNUSED_COL = ['id', 'src_ip', 'src_mac', 'src_oui', 'dst_ip', 'dst_mac', 'dst_oui', 'splt_direction', 'splt_ps', 'splt_piat_ms', 'application_name', 'application_category_name',\n",
    "              'application_is_guessed', 'application_confidence', 'requested_server_name', 'client_fingerprint', 'server_fingerprint', 'user_agent', 'content_type']\n"
   ]
  },
  {
   "cell_type": "code",
   "execution_count": 3,
   "metadata": {},
   "outputs": [
    {
     "data": {
      "application/vnd.jupyter.widget-view+json": {
       "model_id": "0084f29d6e5743f88a96fc9fcb53a42d",
       "version_major": 2,
       "version_minor": 0
      },
      "text/plain": [
       "  0%|          | 0/109 [00:00<?, ?it/s]"
      ]
     },
     "metadata": {},
     "output_type": "display_data"
    },
    {
     "name": "stderr",
     "output_type": "stream",
     "text": [
      "/home/research/.pyenv/versions/3.9.0/lib/python3.9/site-packages/nfstream/streamer.py:513: DtypeWarning: Columns (86,87,88) have mixed types. Specify dtype option on import or set low_memory=False.\n",
      "  df = pd.read_csv(temp_file_path)\n",
      "/home/research/.pyenv/versions/3.9.0/lib/python3.9/site-packages/nfstream/streamer.py:513: DtypeWarning: Columns (86) have mixed types. Specify dtype option on import or set low_memory=False.\n",
      "  df = pd.read_csv(temp_file_path)\n"
     ]
    }
   ],
   "source": [
    "for path in tqdm(PCAP_PATHS):\n",
    "    file_name = os.path.basename(path)\n",
    "    dst_path = 'data/flow/' + os.path.splitext(file_name)[0] + '.csv'\n",
    "    df = NFStreamer(source=path, statistical_analysis=True,\n",
    "                    splt_analysis=10).to_pandas()\n",
    "    df = df.drop(columns=UNUSED_COL)\n",
    "    for label in LABELS:\n",
    "        if file_name.lower().startswith(label):\n",
    "            df['label'] = label\n",
    "    df.to_csv(dst_path, index=False)\n"
   ]
  },
  {
   "cell_type": "code",
   "execution_count": 7,
   "metadata": {},
   "outputs": [
    {
     "name": "stdout",
     "output_type": "stream",
     "text": [
      "aim 431\n",
      "email 8362\n",
      "facebook 106923\n",
      "ftps 923\n",
      "gmail 463\n",
      "hangout 101979\n",
      "icq 447\n",
      "netflix 391\n",
      "scp 11944\n",
      "sftp 225\n",
      "skype 127067\n",
      "spotify 365\n",
      "vimeo 467\n",
      "voipbuster 3120\n",
      "youtube 947\n"
     ]
    }
   ],
   "source": [
    "src_paths = glob('data/flow/*')\n",
    "for label in LABELS:\n",
    "    file_list = []\n",
    "    for path in src_paths:\n",
    "        file_name = os.path.basename(path)\n",
    "        if file_name.lower().startswith(label):\n",
    "            file_list.append(pd.read_csv(path))\n",
    "    merged_df = pd.concat(file_list, ignore_index=True)\n",
    "    print(label, len(merged_df))\n"
   ]
  },
  {
   "cell_type": "code",
   "execution_count": 17,
   "metadata": {},
   "outputs": [],
   "source": [
    "labels = ['facebook', 'hangout', 'skype']\n",
    "df = pd.DataFrame()\n",
    "for path in src_paths:\n",
    "    file_name = os.path.basename(path)\n",
    "    other = True\n",
    "    for label in labels:\n",
    "        if file_name.lower().startswith(label):\n",
    "            df = pd.concat([df, pd.read_csv(path)], ignore_index=True)\n",
    "            other = False\n",
    "            break\n",
    "    if other:\n",
    "        df_other = pd.read_csv(path)\n",
    "        df_other['label'] = 'other'\n",
    "        df = pd.concat([df, df_other], ignore_index=True)\n",
    "df.to_csv('nfstream_data.csv', index=False)\n"
   ]
  },
  {
   "cell_type": "code",
   "execution_count": 18,
   "metadata": {},
   "outputs": [],
   "source": [
    "data = pd.read_csv('nfstream_data.csv')\n"
   ]
  },
  {
   "cell_type": "code",
   "execution_count": 19,
   "metadata": {},
   "outputs": [
    {
     "data": {
      "text/plain": [
       "skype       127067\n",
       "facebook    106923\n",
       "hangout     101979\n",
       "other        28085\n",
       "Name: label, dtype: int64"
      ]
     },
     "execution_count": 19,
     "metadata": {},
     "output_type": "execute_result"
    }
   ],
   "source": [
    "data['label'].value_counts()\n"
   ]
  },
  {
   "cell_type": "code",
   "execution_count": 24,
   "metadata": {},
   "outputs": [
    {
     "data": {
      "application/vnd.jupyter.widget-view+json": {
       "model_id": "88c93c29adb94e5299de58fa6682c743",
       "version_major": 2,
       "version_minor": 0
      },
      "text/plain": [
       "0it [00:00, ?it/s]"
      ]
     },
     "metadata": {},
     "output_type": "display_data"
    }
   ],
   "source": [
    "num = {\n",
    "    'facebook': 0,\n",
    "    'hangout': 0,\n",
    "    'skype': 0,\n",
    "    'other': 0,\n",
    "}\n",
    "for index, row in tqdm(data.iterrows()):\n",
    "    x = row.values[:-1].astype('float')\n",
    "    label = row.values[-1]\n",
    "    num[label] += 1\n",
    "    if (n := num[label]) <= 10000:\n",
    "        image = Image.fromarray(x, mode='RGBA')\n",
    "        image.save(f'data/rgba/{label}/{n}.png')\n"
   ]
  }
 ],
 "metadata": {
  "kernelspec": {
   "display_name": "Python 3.9.0 64-bit ('3.9.0')",
   "language": "python",
   "name": "python3"
  },
  "language_info": {
   "codemirror_mode": {
    "name": "ipython",
    "version": 3
   },
   "file_extension": ".py",
   "mimetype": "text/x-python",
   "name": "python",
   "nbconvert_exporter": "python",
   "pygments_lexer": "ipython3",
   "version": "3.9.0"
  },
  "orig_nbformat": 4,
  "vscode": {
   "interpreter": {
    "hash": "9a6a0fe5b6f54e770e82ffb4ac1fa9168698d40c0111d450eca10dfecc5d692b"
   }
  }
 },
 "nbformat": 4,
 "nbformat_minor": 2
}
